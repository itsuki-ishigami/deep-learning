{
 "cells": [
  {
   "cell_type": "code",
   "execution_count": 1,
   "id": "dc107138",
   "metadata": {},
   "outputs": [],
   "source": [
    "import torch\n",
    "import torch.nn as nn\n",
    "import torch.nn.functional as F"
   ]
  },
  {
   "cell_type": "code",
   "execution_count": 2,
   "id": "42fb73e8",
   "metadata": {},
   "outputs": [
    {
     "name": "stdout",
     "output_type": "stream",
     "text": [
      "Collecting scikit-learn\n",
      "  Downloading scikit_learn-1.7.0-cp312-cp312-win_amd64.whl.metadata (14 kB)\n",
      "Collecting numpy>=1.22.0 (from scikit-learn)\n",
      "  Using cached numpy-2.3.0-cp312-cp312-win_amd64.whl.metadata (60 kB)\n",
      "Collecting scipy>=1.8.0 (from scikit-learn)\n",
      "  Downloading scipy-1.15.3-cp312-cp312-win_amd64.whl.metadata (60 kB)\n",
      "     ---------------------------------------- 0.0/60.8 kB ? eta -:--:--\n",
      "     ------ --------------------------------- 10.2/60.8 kB ? eta -:--:--\n",
      "     -------------------------------- ----- 51.2/60.8 kB 660.6 kB/s eta 0:00:01\n",
      "     -------------------------------------- 60.8/60.8 kB 647.7 kB/s eta 0:00:00\n",
      "Collecting joblib>=1.2.0 (from scikit-learn)\n",
      "  Downloading joblib-1.5.1-py3-none-any.whl.metadata (5.6 kB)\n",
      "Collecting threadpoolctl>=3.1.0 (from scikit-learn)\n",
      "  Using cached threadpoolctl-3.6.0-py3-none-any.whl.metadata (13 kB)\n",
      "Downloading scikit_learn-1.7.0-cp312-cp312-win_amd64.whl (10.7 MB)\n",
      "   ---------------------------------------- 0.0/10.7 MB ? eta -:--:--\n",
      "    --------------------------------------- 0.2/10.7 MB 6.3 MB/s eta 0:00:02\n",
      "   ---------- ----------------------------- 2.9/10.7 MB 37.4 MB/s eta 0:00:01\n",
      "   ----------------------- ---------------- 6.2/10.7 MB 56.9 MB/s eta 0:00:01\n",
      "   ------------------------------------- -- 9.9/10.7 MB 63.3 MB/s eta 0:00:01\n",
      "   ---------------------------------------- 10.7/10.7 MB 59.5 MB/s eta 0:00:00\n",
      "Downloading joblib-1.5.1-py3-none-any.whl (307 kB)\n",
      "   ---------------------------------------- 0.0/307.7 kB ? eta -:--:--\n",
      "   ---------------------------------------- 307.7/307.7 kB ? eta 0:00:00\n",
      "Using cached numpy-2.3.0-cp312-cp312-win_amd64.whl (12.7 MB)\n",
      "Downloading scipy-1.15.3-cp312-cp312-win_amd64.whl (41.0 MB)\n",
      "   ---------------------------------------- 0.0/41.0 MB ? eta -:--:--\n",
      "   -- ------------------------------------- 3.1/41.0 MB 98.4 MB/s eta 0:00:01\n",
      "   ------ --------------------------------- 6.6/41.0 MB 84.0 MB/s eta 0:00:01\n",
      "   ---------- ----------------------------- 10.4/41.0 MB 81.8 MB/s eta 0:00:01\n",
      "   ------------- -------------------------- 14.2/41.0 MB 81.8 MB/s eta 0:00:01\n",
      "   ----------------- ---------------------- 17.6/41.0 MB 81.8 MB/s eta 0:00:01\n",
      "   -------------------- ------------------- 21.5/41.0 MB 81.8 MB/s eta 0:00:01\n",
      "   ------------------------ --------------- 25.0/41.0 MB 81.8 MB/s eta 0:00:01\n",
      "   --------------------------- ------------ 28.7/41.0 MB 81.8 MB/s eta 0:00:01\n",
      "   ------------------------------- -------- 32.5/41.0 MB 81.8 MB/s eta 0:00:01\n",
      "   ---------------------------------- ----- 35.6/41.0 MB 81.8 MB/s eta 0:00:01\n",
      "   -------------------------------------- - 39.0/41.0 MB 81.8 MB/s eta 0:00:01\n",
      "   ---------------------------------------  41.0/41.0 MB 73.1 MB/s eta 0:00:01\n",
      "   ---------------------------------------  41.0/41.0 MB 73.1 MB/s eta 0:00:01\n",
      "   ---------------------------------------- 41.0/41.0 MB 40.9 MB/s eta 0:00:00\n",
      "Using cached threadpoolctl-3.6.0-py3-none-any.whl (18 kB)\n",
      "Installing collected packages: threadpoolctl, numpy, joblib, scipy, scikit-learn\n",
      "Successfully installed joblib-1.5.1 numpy-2.3.0 scikit-learn-1.7.0 scipy-1.15.3 threadpoolctl-3.6.0\n"
     ]
    },
    {
     "name": "stderr",
     "output_type": "stream",
     "text": [
      "\n",
      "[notice] A new release of pip is available: 24.0 -> 25.1.1\n",
      "[notice] To update, run: python.exe -m pip install --upgrade pip\n"
     ]
    }
   ],
   "source": [
    "!pip install scikit-learn"
   ]
  },
  {
   "cell_type": "code",
   "execution_count": 3,
   "id": "1bffe706",
   "metadata": {},
   "outputs": [],
   "source": [
    "from sklearn.datasets import load_iris"
   ]
  },
  {
   "cell_type": "code",
   "execution_count": 4,
   "id": "8edc80ca",
   "metadata": {},
   "outputs": [],
   "source": [
    "iris = load_iris()"
   ]
  },
  {
   "cell_type": "code",
   "execution_count": 5,
   "id": "3d40d1a9",
   "metadata": {},
   "outputs": [],
   "source": [
    "#入力値と目的値を抽出\n",
    "x = iris['data']\n",
    "t = iris['target']"
   ]
  },
  {
   "cell_type": "code",
   "execution_count": 6,
   "id": "702d19b6",
   "metadata": {},
   "outputs": [
    {
     "data": {
      "text/plain": [
       "{'data': array([[5.1, 3.5, 1.4, 0.2],\n",
       "        [4.9, 3. , 1.4, 0.2],\n",
       "        [4.7, 3.2, 1.3, 0.2],\n",
       "        [4.6, 3.1, 1.5, 0.2],\n",
       "        [5. , 3.6, 1.4, 0.2],\n",
       "        [5.4, 3.9, 1.7, 0.4],\n",
       "        [4.6, 3.4, 1.4, 0.3],\n",
       "        [5. , 3.4, 1.5, 0.2],\n",
       "        [4.4, 2.9, 1.4, 0.2],\n",
       "        [4.9, 3.1, 1.5, 0.1],\n",
       "        [5.4, 3.7, 1.5, 0.2],\n",
       "        [4.8, 3.4, 1.6, 0.2],\n",
       "        [4.8, 3. , 1.4, 0.1],\n",
       "        [4.3, 3. , 1.1, 0.1],\n",
       "        [5.8, 4. , 1.2, 0.2],\n",
       "        [5.7, 4.4, 1.5, 0.4],\n",
       "        [5.4, 3.9, 1.3, 0.4],\n",
       "        [5.1, 3.5, 1.4, 0.3],\n",
       "        [5.7, 3.8, 1.7, 0.3],\n",
       "        [5.1, 3.8, 1.5, 0.3],\n",
       "        [5.4, 3.4, 1.7, 0.2],\n",
       "        [5.1, 3.7, 1.5, 0.4],\n",
       "        [4.6, 3.6, 1. , 0.2],\n",
       "        [5.1, 3.3, 1.7, 0.5],\n",
       "        [4.8, 3.4, 1.9, 0.2],\n",
       "        [5. , 3. , 1.6, 0.2],\n",
       "        [5. , 3.4, 1.6, 0.4],\n",
       "        [5.2, 3.5, 1.5, 0.2],\n",
       "        [5.2, 3.4, 1.4, 0.2],\n",
       "        [4.7, 3.2, 1.6, 0.2],\n",
       "        [4.8, 3.1, 1.6, 0.2],\n",
       "        [5.4, 3.4, 1.5, 0.4],\n",
       "        [5.2, 4.1, 1.5, 0.1],\n",
       "        [5.5, 4.2, 1.4, 0.2],\n",
       "        [4.9, 3.1, 1.5, 0.2],\n",
       "        [5. , 3.2, 1.2, 0.2],\n",
       "        [5.5, 3.5, 1.3, 0.2],\n",
       "        [4.9, 3.6, 1.4, 0.1],\n",
       "        [4.4, 3. , 1.3, 0.2],\n",
       "        [5.1, 3.4, 1.5, 0.2],\n",
       "        [5. , 3.5, 1.3, 0.3],\n",
       "        [4.5, 2.3, 1.3, 0.3],\n",
       "        [4.4, 3.2, 1.3, 0.2],\n",
       "        [5. , 3.5, 1.6, 0.6],\n",
       "        [5.1, 3.8, 1.9, 0.4],\n",
       "        [4.8, 3. , 1.4, 0.3],\n",
       "        [5.1, 3.8, 1.6, 0.2],\n",
       "        [4.6, 3.2, 1.4, 0.2],\n",
       "        [5.3, 3.7, 1.5, 0.2],\n",
       "        [5. , 3.3, 1.4, 0.2],\n",
       "        [7. , 3.2, 4.7, 1.4],\n",
       "        [6.4, 3.2, 4.5, 1.5],\n",
       "        [6.9, 3.1, 4.9, 1.5],\n",
       "        [5.5, 2.3, 4. , 1.3],\n",
       "        [6.5, 2.8, 4.6, 1.5],\n",
       "        [5.7, 2.8, 4.5, 1.3],\n",
       "        [6.3, 3.3, 4.7, 1.6],\n",
       "        [4.9, 2.4, 3.3, 1. ],\n",
       "        [6.6, 2.9, 4.6, 1.3],\n",
       "        [5.2, 2.7, 3.9, 1.4],\n",
       "        [5. , 2. , 3.5, 1. ],\n",
       "        [5.9, 3. , 4.2, 1.5],\n",
       "        [6. , 2.2, 4. , 1. ],\n",
       "        [6.1, 2.9, 4.7, 1.4],\n",
       "        [5.6, 2.9, 3.6, 1.3],\n",
       "        [6.7, 3.1, 4.4, 1.4],\n",
       "        [5.6, 3. , 4.5, 1.5],\n",
       "        [5.8, 2.7, 4.1, 1. ],\n",
       "        [6.2, 2.2, 4.5, 1.5],\n",
       "        [5.6, 2.5, 3.9, 1.1],\n",
       "        [5.9, 3.2, 4.8, 1.8],\n",
       "        [6.1, 2.8, 4. , 1.3],\n",
       "        [6.3, 2.5, 4.9, 1.5],\n",
       "        [6.1, 2.8, 4.7, 1.2],\n",
       "        [6.4, 2.9, 4.3, 1.3],\n",
       "        [6.6, 3. , 4.4, 1.4],\n",
       "        [6.8, 2.8, 4.8, 1.4],\n",
       "        [6.7, 3. , 5. , 1.7],\n",
       "        [6. , 2.9, 4.5, 1.5],\n",
       "        [5.7, 2.6, 3.5, 1. ],\n",
       "        [5.5, 2.4, 3.8, 1.1],\n",
       "        [5.5, 2.4, 3.7, 1. ],\n",
       "        [5.8, 2.7, 3.9, 1.2],\n",
       "        [6. , 2.7, 5.1, 1.6],\n",
       "        [5.4, 3. , 4.5, 1.5],\n",
       "        [6. , 3.4, 4.5, 1.6],\n",
       "        [6.7, 3.1, 4.7, 1.5],\n",
       "        [6.3, 2.3, 4.4, 1.3],\n",
       "        [5.6, 3. , 4.1, 1.3],\n",
       "        [5.5, 2.5, 4. , 1.3],\n",
       "        [5.5, 2.6, 4.4, 1.2],\n",
       "        [6.1, 3. , 4.6, 1.4],\n",
       "        [5.8, 2.6, 4. , 1.2],\n",
       "        [5. , 2.3, 3.3, 1. ],\n",
       "        [5.6, 2.7, 4.2, 1.3],\n",
       "        [5.7, 3. , 4.2, 1.2],\n",
       "        [5.7, 2.9, 4.2, 1.3],\n",
       "        [6.2, 2.9, 4.3, 1.3],\n",
       "        [5.1, 2.5, 3. , 1.1],\n",
       "        [5.7, 2.8, 4.1, 1.3],\n",
       "        [6.3, 3.3, 6. , 2.5],\n",
       "        [5.8, 2.7, 5.1, 1.9],\n",
       "        [7.1, 3. , 5.9, 2.1],\n",
       "        [6.3, 2.9, 5.6, 1.8],\n",
       "        [6.5, 3. , 5.8, 2.2],\n",
       "        [7.6, 3. , 6.6, 2.1],\n",
       "        [4.9, 2.5, 4.5, 1.7],\n",
       "        [7.3, 2.9, 6.3, 1.8],\n",
       "        [6.7, 2.5, 5.8, 1.8],\n",
       "        [7.2, 3.6, 6.1, 2.5],\n",
       "        [6.5, 3.2, 5.1, 2. ],\n",
       "        [6.4, 2.7, 5.3, 1.9],\n",
       "        [6.8, 3. , 5.5, 2.1],\n",
       "        [5.7, 2.5, 5. , 2. ],\n",
       "        [5.8, 2.8, 5.1, 2.4],\n",
       "        [6.4, 3.2, 5.3, 2.3],\n",
       "        [6.5, 3. , 5.5, 1.8],\n",
       "        [7.7, 3.8, 6.7, 2.2],\n",
       "        [7.7, 2.6, 6.9, 2.3],\n",
       "        [6. , 2.2, 5. , 1.5],\n",
       "        [6.9, 3.2, 5.7, 2.3],\n",
       "        [5.6, 2.8, 4.9, 2. ],\n",
       "        [7.7, 2.8, 6.7, 2. ],\n",
       "        [6.3, 2.7, 4.9, 1.8],\n",
       "        [6.7, 3.3, 5.7, 2.1],\n",
       "        [7.2, 3.2, 6. , 1.8],\n",
       "        [6.2, 2.8, 4.8, 1.8],\n",
       "        [6.1, 3. , 4.9, 1.8],\n",
       "        [6.4, 2.8, 5.6, 2.1],\n",
       "        [7.2, 3. , 5.8, 1.6],\n",
       "        [7.4, 2.8, 6.1, 1.9],\n",
       "        [7.9, 3.8, 6.4, 2. ],\n",
       "        [6.4, 2.8, 5.6, 2.2],\n",
       "        [6.3, 2.8, 5.1, 1.5],\n",
       "        [6.1, 2.6, 5.6, 1.4],\n",
       "        [7.7, 3. , 6.1, 2.3],\n",
       "        [6.3, 3.4, 5.6, 2.4],\n",
       "        [6.4, 3.1, 5.5, 1.8],\n",
       "        [6. , 3. , 4.8, 1.8],\n",
       "        [6.9, 3.1, 5.4, 2.1],\n",
       "        [6.7, 3.1, 5.6, 2.4],\n",
       "        [6.9, 3.1, 5.1, 2.3],\n",
       "        [5.8, 2.7, 5.1, 1.9],\n",
       "        [6.8, 3.2, 5.9, 2.3],\n",
       "        [6.7, 3.3, 5.7, 2.5],\n",
       "        [6.7, 3. , 5.2, 2.3],\n",
       "        [6.3, 2.5, 5. , 1.9],\n",
       "        [6.5, 3. , 5.2, 2. ],\n",
       "        [6.2, 3.4, 5.4, 2.3],\n",
       "        [5.9, 3. , 5.1, 1.8]]),\n",
       " 'target': array([0, 0, 0, 0, 0, 0, 0, 0, 0, 0, 0, 0, 0, 0, 0, 0, 0, 0, 0, 0, 0, 0,\n",
       "        0, 0, 0, 0, 0, 0, 0, 0, 0, 0, 0, 0, 0, 0, 0, 0, 0, 0, 0, 0, 0, 0,\n",
       "        0, 0, 0, 0, 0, 0, 1, 1, 1, 1, 1, 1, 1, 1, 1, 1, 1, 1, 1, 1, 1, 1,\n",
       "        1, 1, 1, 1, 1, 1, 1, 1, 1, 1, 1, 1, 1, 1, 1, 1, 1, 1, 1, 1, 1, 1,\n",
       "        1, 1, 1, 1, 1, 1, 1, 1, 1, 1, 1, 1, 2, 2, 2, 2, 2, 2, 2, 2, 2, 2,\n",
       "        2, 2, 2, 2, 2, 2, 2, 2, 2, 2, 2, 2, 2, 2, 2, 2, 2, 2, 2, 2, 2, 2,\n",
       "        2, 2, 2, 2, 2, 2, 2, 2, 2, 2, 2, 2, 2, 2, 2, 2, 2, 2]),\n",
       " 'frame': None,\n",
       " 'target_names': array(['setosa', 'versicolor', 'virginica'], dtype='<U10'),\n",
       " 'DESCR': '.. _iris_dataset:\\n\\nIris plants dataset\\n--------------------\\n\\n**Data Set Characteristics:**\\n\\n:Number of Instances: 150 (50 in each of three classes)\\n:Number of Attributes: 4 numeric, predictive attributes and the class\\n:Attribute Information:\\n    - sepal length in cm\\n    - sepal width in cm\\n    - petal length in cm\\n    - petal width in cm\\n    - class:\\n            - Iris-Setosa\\n            - Iris-Versicolour\\n            - Iris-Virginica\\n\\n:Summary Statistics:\\n\\n============== ==== ==== ======= ===== ====================\\n                Min  Max   Mean    SD   Class Correlation\\n============== ==== ==== ======= ===== ====================\\nsepal length:   4.3  7.9   5.84   0.83    0.7826\\nsepal width:    2.0  4.4   3.05   0.43   -0.4194\\npetal length:   1.0  6.9   3.76   1.76    0.9490  (high!)\\npetal width:    0.1  2.5   1.20   0.76    0.9565  (high!)\\n============== ==== ==== ======= ===== ====================\\n\\n:Missing Attribute Values: None\\n:Class Distribution: 33.3% for each of 3 classes.\\n:Creator: R.A. Fisher\\n:Donor: Michael Marshall (MARSHALL%PLU@io.arc.nasa.gov)\\n:Date: July, 1988\\n\\nThe famous Iris database, first used by Sir R.A. Fisher. The dataset is taken\\nfrom Fisher\\'s paper. Note that it\\'s the same as in R, but not as in the UCI\\nMachine Learning Repository, which has two wrong data points.\\n\\nThis is perhaps the best known database to be found in the\\npattern recognition literature.  Fisher\\'s paper is a classic in the field and\\nis referenced frequently to this day.  (See Duda & Hart, for example.)  The\\ndata set contains 3 classes of 50 instances each, where each class refers to a\\ntype of iris plant.  One class is linearly separable from the other 2; the\\nlatter are NOT linearly separable from each other.\\n\\n.. dropdown:: References\\n\\n  - Fisher, R.A. \"The use of multiple measurements in taxonomic problems\"\\n    Annual Eugenics, 7, Part II, 179-188 (1936); also in \"Contributions to\\n    Mathematical Statistics\" (John Wiley, NY, 1950).\\n  - Duda, R.O., & Hart, P.E. (1973) Pattern Classification and Scene Analysis.\\n    (Q327.D83) John Wiley & Sons.  ISBN 0-471-22361-1.  See page 218.\\n  - Dasarathy, B.V. (1980) \"Nosing Around the Neighborhood: A New System\\n    Structure and Classification Rule for Recognition in Partially Exposed\\n    Environments\".  IEEE Transactions on Pattern Analysis and Machine\\n    Intelligence, Vol. PAMI-2, No. 1, 67-71.\\n  - Gates, G.W. (1972) \"The Reduced Nearest Neighbor Rule\".  IEEE Transactions\\n    on Information Theory, May 1972, 431-433.\\n  - See also: 1988 MLC Proceedings, 54-64.  Cheeseman et al\"s AUTOCLASS II\\n    conceptual clustering system finds 3 classes in the data.\\n  - Many, many more ...\\n',\n",
       " 'feature_names': ['sepal length (cm)',\n",
       "  'sepal width (cm)',\n",
       "  'petal length (cm)',\n",
       "  'petal width (cm)'],\n",
       " 'filename': 'iris.csv',\n",
       " 'data_module': 'sklearn.datasets.data'}"
      ]
     },
     "execution_count": 6,
     "metadata": {},
     "output_type": "execute_result"
    }
   ],
   "source": [
    "iris"
   ]
  },
  {
   "cell_type": "code",
   "execution_count": 7,
   "id": "7500ee83",
   "metadata": {},
   "outputs": [
    {
     "data": {
      "text/plain": [
       "(numpy.ndarray, numpy.ndarray)"
      ]
     },
     "execution_count": 7,
     "metadata": {},
     "output_type": "execute_result"
    }
   ],
   "source": [
    "type(x), type(t)"
   ]
  },
  {
   "cell_type": "code",
   "execution_count": 8,
   "id": "41cd93cb",
   "metadata": {},
   "outputs": [],
   "source": [
    "#PytorchのTensor型へ変換\n",
    "x = torch.tensor(x, dtype=torch.float32)\n",
    "t = torch.tensor(t, dtype=torch.int64)"
   ]
  },
  {
   "cell_type": "code",
   "execution_count": 9,
   "id": "d34df54a",
   "metadata": {},
   "outputs": [
    {
     "data": {
      "text/plain": [
       "(torch.Tensor, torch.Tensor)"
      ]
     },
     "execution_count": 9,
     "metadata": {},
     "output_type": "execute_result"
    }
   ],
   "source": [
    "type(x), type(t)"
   ]
  },
  {
   "cell_type": "code",
   "execution_count": 10,
   "id": "22407a1d",
   "metadata": {},
   "outputs": [
    {
     "data": {
      "text/plain": [
       "(torch.Size([150, 4]), torch.Size([150]))"
      ]
     },
     "execution_count": 10,
     "metadata": {},
     "output_type": "execute_result"
    }
   ],
   "source": [
    "x.shape, t.shape"
   ]
  },
  {
   "cell_type": "markdown",
   "id": "3a96acf7",
   "metadata": {},
   "source": [
    "DataLoader"
   ]
  },
  {
   "cell_type": "code",
   "execution_count": 11,
   "id": "34c055c2",
   "metadata": {},
   "outputs": [],
   "source": [
    "#入力値と目標値をまとめる\n",
    "dataset = torch.utils.data.TensorDataset(x, t)"
   ]
  },
  {
   "cell_type": "code",
   "execution_count": 12,
   "id": "2154cf7d",
   "metadata": {},
   "outputs": [
    {
     "data": {
      "text/plain": [
       "150"
      ]
     },
     "execution_count": 12,
     "metadata": {},
     "output_type": "execute_result"
    }
   ],
   "source": [
    "len(dataset)"
   ]
  },
  {
   "cell_type": "code",
   "execution_count": 13,
   "id": "c2a8a66c",
   "metadata": {},
   "outputs": [
    {
     "data": {
      "text/plain": [
       "(tensor([5.1000, 3.5000, 1.4000, 0.2000]), tensor(0))"
      ]
     },
     "execution_count": 13,
     "metadata": {},
     "output_type": "execute_result"
    }
   ],
   "source": [
    "dataset[0]"
   ]
  },
  {
   "cell_type": "markdown",
   "id": "e04a3210",
   "metadata": {},
   "source": [
    "データセット分割"
   ]
  },
  {
   "cell_type": "code",
   "execution_count": 14,
   "id": "a5d7e8ce",
   "metadata": {},
   "outputs": [],
   "source": [
    "#各データのサンプル数を決定\n",
    "#train : val : test = 60% : 20% : 20%\n",
    "n_train = int(len(dataset)*0.6)\n",
    "n_val = int(len(dataset)*0.2)\n",
    "n_test = len(dataset)-n_train-n_val"
   ]
  },
  {
   "cell_type": "code",
   "execution_count": 15,
   "id": "1515af17",
   "metadata": {},
   "outputs": [
    {
     "data": {
      "text/plain": [
       "(90, 30, 30)"
      ]
     },
     "execution_count": 15,
     "metadata": {},
     "output_type": "execute_result"
    }
   ],
   "source": [
    "n_train, n_val, n_test"
   ]
  },
  {
   "cell_type": "code",
   "execution_count": 16,
   "id": "42a4c410",
   "metadata": {},
   "outputs": [
    {
     "data": {
      "text/plain": [
       "<torch._C.Generator at 0x19c9b1324f0>"
      ]
     },
     "execution_count": 16,
     "metadata": {},
     "output_type": "execute_result"
    }
   ],
   "source": [
    "torch.manual_seed(0)"
   ]
  },
  {
   "cell_type": "code",
   "execution_count": 17,
   "id": "b846aa3f",
   "metadata": {},
   "outputs": [],
   "source": [
    "#データセットの分割\n",
    "train, val, test = torch.utils.data.random_split(dataset, [n_train, n_val, n_test])"
   ]
  },
  {
   "cell_type": "code",
   "execution_count": 18,
   "id": "981b1c12",
   "metadata": {},
   "outputs": [
    {
     "data": {
      "text/plain": [
       "(90, 30, 30)"
      ]
     },
     "execution_count": 18,
     "metadata": {},
     "output_type": "execute_result"
    }
   ],
   "source": [
    "len(train), len(val), len(test)"
   ]
  },
  {
   "cell_type": "markdown",
   "id": "3dcae8b2",
   "metadata": {},
   "source": [
    "ミニバッチ学習"
   ]
  },
  {
   "cell_type": "code",
   "execution_count": 19,
   "id": "edb26c78",
   "metadata": {},
   "outputs": [],
   "source": [
    "#バッチサイズの定義\n",
    "batch_size = 10"
   ]
  },
  {
   "cell_type": "code",
   "execution_count": 20,
   "id": "7dcede01",
   "metadata": {},
   "outputs": [],
   "source": [
    "train_loader = torch.utils.data.DataLoader(train, batch_size, shuffle=True, drop_last=True)\n",
    "val_loader = torch.utils.data.DataLoader(val, batch_size)\n",
    "test_loader = torch.utils.data.DataLoader(test, batch_size)"
   ]
  },
  {
   "cell_type": "code",
   "execution_count": 21,
   "id": "6b148efc",
   "metadata": {},
   "outputs": [],
   "source": [
    "x, t = next(iter(train_loader))"
   ]
  },
  {
   "cell_type": "code",
   "execution_count": 22,
   "id": "4d394edf",
   "metadata": {},
   "outputs": [
    {
     "data": {
      "text/plain": [
       "tensor([[7.7000, 3.8000, 6.7000, 2.2000],\n",
       "        [5.0000, 3.4000, 1.6000, 0.4000],\n",
       "        [5.5000, 3.5000, 1.3000, 0.2000],\n",
       "        [6.4000, 2.8000, 5.6000, 2.2000],\n",
       "        [6.7000, 2.5000, 5.8000, 1.8000],\n",
       "        [7.7000, 3.0000, 6.1000, 2.3000],\n",
       "        [5.1000, 2.5000, 3.0000, 1.1000],\n",
       "        [5.0000, 3.6000, 1.4000, 0.2000],\n",
       "        [7.3000, 2.9000, 6.3000, 1.8000],\n",
       "        [6.1000, 2.8000, 4.0000, 1.3000]])"
      ]
     },
     "execution_count": 22,
     "metadata": {},
     "output_type": "execute_result"
    }
   ],
   "source": [
    "x"
   ]
  },
  {
   "cell_type": "code",
   "execution_count": 42,
   "id": "c368452c",
   "metadata": {},
   "outputs": [
    {
     "data": {
      "text/plain": [
       "tensor([0, 0, 2, 2, 1, 2, 1, 1, 1, 2])"
      ]
     },
     "execution_count": 42,
     "metadata": {},
     "output_type": "execute_result"
    }
   ],
   "source": [
    "t"
   ]
  },
  {
   "cell_type": "markdown",
   "id": "0327440f",
   "metadata": {},
   "source": [
    "ネットワークの定義"
   ]
  },
  {
   "cell_type": "code",
   "execution_count": 23,
   "id": "f55e4362",
   "metadata": {},
   "outputs": [],
   "source": [
    "#４→４→３の全結合層を定義\n",
    "class Net(nn.Module):\n",
    "    #使用するオブジェクトを定義\n",
    "    def __init__(self):\n",
    "        super().__init__()\n",
    "        self.fc1 = nn.Linear(4, 4)\n",
    "        self.fc2 = nn.Linear(4, 3)\n",
    "\n",
    "    #順伝播\n",
    "    def forward(self, x):\n",
    "        h = self.fc1(x)\n",
    "        h = F.relu(h)\n",
    "        h = self.fc2(h)\n",
    "        return h"
   ]
  },
  {
   "cell_type": "code",
   "execution_count": 24,
   "id": "524fca04",
   "metadata": {},
   "outputs": [],
   "source": [
    "torch.manual_seed(0)\n",
    "#インスタンス化\n",
    "net = Net()"
   ]
  },
  {
   "cell_type": "code",
   "execution_count": 25,
   "id": "9016952c",
   "metadata": {},
   "outputs": [
    {
     "data": {
      "text/plain": [
       "Net(\n",
       "  (fc1): Linear(in_features=4, out_features=4, bias=True)\n",
       "  (fc2): Linear(in_features=4, out_features=3, bias=True)\n",
       ")"
      ]
     },
     "execution_count": 25,
     "metadata": {},
     "output_type": "execute_result"
    }
   ],
   "source": [
    "net"
   ]
  },
  {
   "cell_type": "code",
   "execution_count": 26,
   "id": "a7c02aa7",
   "metadata": {},
   "outputs": [
    {
     "data": {
      "text/plain": [
       "SGD (\n",
       "Parameter Group 0\n",
       "    dampening: 0\n",
       "    differentiable: False\n",
       "    foreach: None\n",
       "    fused: None\n",
       "    lr: 0.01\n",
       "    maximize: False\n",
       "    momentum: 0\n",
       "    nesterov: False\n",
       "    weight_decay: 0\n",
       ")"
      ]
     },
     "execution_count": 26,
     "metadata": {},
     "output_type": "execute_result"
    }
   ],
   "source": [
    "optimizer = torch.optim.SGD(net.parameters(), lr=0.01)\n",
    "optimizer"
   ]
  },
  {
   "cell_type": "code",
   "execution_count": 27,
   "id": "33da9e6f",
   "metadata": {},
   "outputs": [
    {
     "data": {
      "text/plain": [
       "[tensor([[5.4000, 3.9000, 1.7000, 0.4000],\n",
       "         [4.6000, 3.6000, 1.0000, 0.2000],\n",
       "         [6.5000, 3.0000, 5.5000, 1.8000],\n",
       "         [6.9000, 3.1000, 5.4000, 2.1000],\n",
       "         [6.3000, 2.5000, 4.9000, 1.5000],\n",
       "         [7.1000, 3.0000, 5.9000, 2.1000],\n",
       "         [5.8000, 2.7000, 4.1000, 1.0000],\n",
       "         [7.0000, 3.2000, 4.7000, 1.4000],\n",
       "         [6.7000, 3.0000, 5.0000, 1.7000],\n",
       "         [7.2000, 3.6000, 6.1000, 2.5000]]),\n",
       " tensor([0, 0, 2, 2, 1, 2, 1, 1, 1, 2])]"
      ]
     },
     "execution_count": 27,
     "metadata": {},
     "output_type": "execute_result"
    }
   ],
   "source": [
    "batch = next(iter(train_loader))\n",
    "batch"
   ]
  },
  {
   "cell_type": "code",
   "execution_count": 28,
   "id": "bc56a873",
   "metadata": {},
   "outputs": [],
   "source": [
    "x, t = batch"
   ]
  },
  {
   "cell_type": "code",
   "execution_count": 29,
   "id": "2abc7c53",
   "metadata": {},
   "outputs": [
    {
     "data": {
      "text/plain": [
       "tensor([[5.4000, 3.9000, 1.7000, 0.4000],\n",
       "        [4.6000, 3.6000, 1.0000, 0.2000],\n",
       "        [6.5000, 3.0000, 5.5000, 1.8000],\n",
       "        [6.9000, 3.1000, 5.4000, 2.1000],\n",
       "        [6.3000, 2.5000, 4.9000, 1.5000],\n",
       "        [7.1000, 3.0000, 5.9000, 2.1000],\n",
       "        [5.8000, 2.7000, 4.1000, 1.0000],\n",
       "        [7.0000, 3.2000, 4.7000, 1.4000],\n",
       "        [6.7000, 3.0000, 5.0000, 1.7000],\n",
       "        [7.2000, 3.6000, 6.1000, 2.5000]])"
      ]
     },
     "execution_count": 29,
     "metadata": {},
     "output_type": "execute_result"
    }
   ],
   "source": [
    "x"
   ]
  },
  {
   "cell_type": "code",
   "execution_count": 30,
   "id": "fc8e796c",
   "metadata": {},
   "outputs": [
    {
     "data": {
      "text/plain": [
       "tensor([0, 0, 2, 2, 1, 2, 1, 1, 1, 2])"
      ]
     },
     "execution_count": 30,
     "metadata": {},
     "output_type": "execute_result"
    }
   ],
   "source": [
    "t"
   ]
  },
  {
   "cell_type": "code",
   "execution_count": 31,
   "id": "b4158f2d",
   "metadata": {},
   "outputs": [
    {
     "data": {
      "text/plain": [
       "tensor([[-0.2557, -0.2605, -0.4679],\n",
       "        [-0.2041, -0.2834, -0.5574],\n",
       "        [-0.2786, -0.2244, -0.3632],\n",
       "        [-0.2552, -0.2214, -0.3703],\n",
       "        [-0.3241, -0.2302, -0.3493],\n",
       "        [-0.2788, -0.2244, -0.3631],\n",
       "        [-0.3241, -0.2302, -0.3493],\n",
       "        [-0.3241, -0.2302, -0.3493],\n",
       "        [-0.3090, -0.2282, -0.3539],\n",
       "        [-0.1884, -0.2129, -0.3907]], grad_fn=<AddmmBackward0>)"
      ]
     },
     "execution_count": 31,
     "metadata": {},
     "output_type": "execute_result"
    }
   ],
   "source": [
    "#予測値の算出\n",
    "y = net.forward(x)\n",
    "y"
   ]
  },
  {
   "cell_type": "code",
   "execution_count": 32,
   "id": "aa8e41d6",
   "metadata": {},
   "outputs": [
    {
     "data": {
      "text/plain": [
       "tensor(1.0882, grad_fn=<NllLossBackward0>)"
      ]
     },
     "execution_count": 32,
     "metadata": {},
     "output_type": "execute_result"
    }
   ],
   "source": [
    "loss = F.cross_entropy(y, t)\n",
    "loss"
   ]
  },
  {
   "cell_type": "code",
   "execution_count": null,
   "id": "8ef8d5db",
   "metadata": {},
   "outputs": [],
   "source": [
    "#勾配を算出\n",
    "loss.backward()"
   ]
  },
  {
   "cell_type": "code",
   "execution_count": null,
   "id": "4ec27d0f",
   "metadata": {},
   "outputs": [],
   "source": [
    "#勾配の更新\n",
    "optimizer.step()"
   ]
  },
  {
   "cell_type": "code",
   "execution_count": 35,
   "id": "9a9745b8",
   "metadata": {},
   "outputs": [
    {
     "data": {
      "text/plain": [
       "False"
      ]
     },
     "execution_count": 35,
     "metadata": {},
     "output_type": "execute_result"
    }
   ],
   "source": [
    "torch.cuda.is_available()"
   ]
  },
  {
   "cell_type": "code",
   "execution_count": 36,
   "id": "1667f633",
   "metadata": {},
   "outputs": [],
   "source": [
    "device = torch.device('cuda()' if torch.cuda.is_available() else 'cpu')"
   ]
  },
  {
   "cell_type": "code",
   "execution_count": 37,
   "id": "64231b9f",
   "metadata": {},
   "outputs": [
    {
     "data": {
      "text/plain": [
       "Net(\n",
       "  (fc1): Linear(in_features=4, out_features=4, bias=True)\n",
       "  (fc2): Linear(in_features=4, out_features=3, bias=True)\n",
       ")"
      ]
     },
     "execution_count": 37,
     "metadata": {},
     "output_type": "execute_result"
    }
   ],
   "source": [
    "net.to(device)"
   ]
  },
  {
   "cell_type": "code",
   "execution_count": 38,
   "id": "be4afe48",
   "metadata": {},
   "outputs": [],
   "source": [
    "x = x.to(device)"
   ]
  },
  {
   "cell_type": "code",
   "execution_count": 39,
   "id": "7533637e",
   "metadata": {},
   "outputs": [],
   "source": [
    "t = t.to(device)"
   ]
  },
  {
   "cell_type": "code",
   "execution_count": 40,
   "id": "61c8c257",
   "metadata": {},
   "outputs": [],
   "source": [
    "#勾配情報の初期化\n",
    "optimizer.zero_grad()"
   ]
  },
  {
   "cell_type": "code",
   "execution_count": 41,
   "id": "220fa594",
   "metadata": {},
   "outputs": [],
   "source": [
    "#エポック数\n",
    "max_epoch = 1"
   ]
  },
  {
   "cell_type": "code",
   "execution_count": 43,
   "id": "294b50ff",
   "metadata": {},
   "outputs": [
    {
     "data": {
      "text/plain": [
       "<torch._C.Generator at 0x19c9b1324f0>"
      ]
     },
     "execution_count": 43,
     "metadata": {},
     "output_type": "execute_result"
    }
   ],
   "source": [
    "torch.manual_seed(0)"
   ]
  },
  {
   "cell_type": "code",
   "execution_count": 44,
   "id": "15477e45",
   "metadata": {},
   "outputs": [],
   "source": [
    "#モデルのインスタンス化とデバイスへの転送\n",
    "net = Net().to(device)"
   ]
  },
  {
   "cell_type": "code",
   "execution_count": 64,
   "id": "7d137f84",
   "metadata": {},
   "outputs": [],
   "source": [
    "#最適化手法\n",
    "optimizer = torch.optim.SGD(net.parameters(), lr=0.1)"
   ]
  },
  {
   "cell_type": "code",
   "execution_count": 65,
   "id": "28cb4b8c",
   "metadata": {},
   "outputs": [
    {
     "name": "stdout",
     "output_type": "stream",
     "text": [
      "loss: 1.0211241245269775\n",
      "loss: 1.0649101734161377\n",
      "loss: 1.0053012371063232\n",
      "loss: 1.032086730003357\n",
      "loss: 0.9999117851257324\n",
      "loss: 0.9024151563644409\n",
      "loss: 0.9020169377326965\n",
      "loss: 0.8127560615539551\n",
      "loss: 1.0501198768615723\n"
     ]
    }
   ],
   "source": [
    "#学習のループ\n",
    "for epoch in range(max_epoch):\n",
    "    \n",
    "    for batch in train_loader:\n",
    "        x, t = batch\n",
    "        x, t = x.to(device), t.to(device)\n",
    "        \n",
    "        #予測値の算出\n",
    "        y = net(x)\n",
    "        \n",
    "        #損失の計算\n",
    "        loss = F.cross_entropy(y, t)\n",
    "        \n",
    "        print(f\"loss: {loss}\")\n",
    "        \n",
    "        #勾配情報の初期化\n",
    "        optimizer.zero_grad()\n",
    "        \n",
    "        #勾配の計算\n",
    "        loss.backward()\n",
    "        \n",
    "        #パラメータの更新\n",
    "        optimizer.step()"
   ]
  },
  {
   "cell_type": "markdown",
   "id": "80fbd026",
   "metadata": {},
   "source": [
    "評価指標の追加"
   ]
  },
  {
   "cell_type": "code",
   "execution_count": 66,
   "id": "f8a28f95",
   "metadata": {},
   "outputs": [
    {
     "data": {
      "text/plain": [
       "tensor([[-0.3994, -0.2288, -0.2754],\n",
       "        [-0.3994, -0.2288, -0.2754],\n",
       "        [-0.3994, -0.2288, -0.2754],\n",
       "        [-0.3994, -0.2288, -0.2754],\n",
       "        [-0.3994, -0.2288, -0.2754],\n",
       "        [-0.3994, -0.2288, -0.2754],\n",
       "        [ 0.1265, -0.4873, -0.8533],\n",
       "        [ 0.0973, -0.4729, -0.8211],\n",
       "        [-0.3994, -0.2288, -0.2754],\n",
       "        [-0.3994, -0.2288, -0.2754]], grad_fn=<AddmmBackward0>)"
      ]
     },
     "execution_count": 66,
     "metadata": {},
     "output_type": "execute_result"
    }
   ],
   "source": [
    "x, t = next(iter(train_loader))\n",
    "x, t = x.to(device), t.to(device)\n",
    "y = net(x)\n",
    "y"
   ]
  },
  {
   "cell_type": "code",
   "execution_count": 67,
   "id": "980af09f",
   "metadata": {},
   "outputs": [
    {
     "data": {
      "text/plain": [
       "tensor([1, 1, 1, 1, 1, 1, 0, 0, 1, 1])"
      ]
     },
     "execution_count": 67,
     "metadata": {},
     "output_type": "execute_result"
    }
   ],
   "source": [
    "y_label = torch.argmax(y, dim=1)\n",
    "y_label"
   ]
  },
  {
   "cell_type": "code",
   "execution_count": 68,
   "id": "0eaeab61",
   "metadata": {},
   "outputs": [
    {
     "data": {
      "text/plain": [
       "tensor([False,  True, False, False, False,  True,  True,  True,  True, False])"
      ]
     },
     "execution_count": 68,
     "metadata": {},
     "output_type": "execute_result"
    }
   ],
   "source": [
    "y_label == t"
   ]
  },
  {
   "cell_type": "code",
   "execution_count": 69,
   "id": "0673ef08",
   "metadata": {},
   "outputs": [
    {
     "data": {
      "text/plain": [
       "tensor(5)"
      ]
     },
     "execution_count": 69,
     "metadata": {},
     "output_type": "execute_result"
    }
   ],
   "source": [
    "(y_label == t).sum()"
   ]
  },
  {
   "cell_type": "code",
   "execution_count": 70,
   "id": "ac143187",
   "metadata": {},
   "outputs": [
    {
     "data": {
      "text/plain": [
       "tensor(5.)"
      ]
     },
     "execution_count": 70,
     "metadata": {},
     "output_type": "execute_result"
    }
   ],
   "source": [
    "#除算した時にint型のままだ困るのでfloat型に変換\n",
    "(y_label == t).sum().float()"
   ]
  },
  {
   "cell_type": "code",
   "execution_count": 71,
   "id": "74ef09db",
   "metadata": {},
   "outputs": [
    {
     "data": {
      "text/plain": [
       "tensor(0.5000)"
      ]
     },
     "execution_count": 71,
     "metadata": {},
     "output_type": "execute_result"
    }
   ],
   "source": [
    "accuracy = (y_labael == t).sum().float() / len(t)\n",
    "accuracy"
   ]
  },
  {
   "cell_type": "code",
   "execution_count": 72,
   "id": "18739185",
   "metadata": {},
   "outputs": [],
   "source": [
    "#モデルの初期化\n",
    "torch.manual_seed(0)\n",
    "\n",
    "net = Net().to(device)\n",
    "\n",
    "optimizer = torch.optim.SGD(net.parameters(), lr=0.1)"
   ]
  },
  {
   "cell_type": "code",
   "execution_count": 73,
   "id": "b889fa51",
   "metadata": {},
   "outputs": [
    {
     "name": "stdout",
     "output_type": "stream",
     "text": [
      "loss: 1.0881630182266235, accuracy: 0.6000000238418579\n",
      "loss: 1.0393922328948975, accuracy: 0.800000011920929\n",
      "loss: 1.0028115510940552, accuracy: 0.6000000238418579\n",
      "loss: 1.0250868797302246, accuracy: 0.6000000238418579\n",
      "loss: 1.0088638067245483, accuracy: 0.6000000238418579\n",
      "loss: 0.9351975321769714, accuracy: 0.5\n",
      "loss: 0.8939588665962219, accuracy: 0.4000000059604645\n",
      "loss: 0.9765418171882629, accuracy: 0.20000000298023224\n",
      "loss: 0.9651519060134888, accuracy: 0.4000000059604645\n"
     ]
    }
   ],
   "source": [
    "#学習のループ\n",
    "for epoch in range(max_epoch):\n",
    "    \n",
    "    for batch in train_loader:\n",
    "        x, t = batch\n",
    "        x, t = x.to(device), t.to(device)\n",
    "        \n",
    "        #予測値の算出\n",
    "        y = net(x)\n",
    "        \n",
    "        #損失の計算\n",
    "        loss = F.cross_entropy(y, t)\n",
    "        \n",
    "        #正解率追加\n",
    "        y_label = torch.argmax(y, dim=1)\n",
    "        accuracy = (y_label == t).sum().float() / len(t)\n",
    "        print(f\"loss: {loss}, accuracy: {accuracy}\")\n",
    "        \n",
    "        #勾配情報の初期化\n",
    "        optimizer.zero_grad()\n",
    "        \n",
    "        #勾配の計算\n",
    "        loss.backward()\n",
    "        \n",
    "        #パラメータの更新\n",
    "        optimizer.step()"
   ]
  }
 ],
 "metadata": {
  "kernelspec": {
   "display_name": "Python 3",
   "language": "python",
   "name": "python3"
  },
  "language_info": {
   "codemirror_mode": {
    "name": "ipython",
    "version": 3
   },
   "file_extension": ".py",
   "mimetype": "text/x-python",
   "name": "python",
   "nbconvert_exporter": "python",
   "pygments_lexer": "ipython3",
   "version": "3.13.3"
  }
 },
 "nbformat": 4,
 "nbformat_minor": 5
}
