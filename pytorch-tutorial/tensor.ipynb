{
 "cells": [
  {
   "cell_type": "markdown",
   "id": "aca0988d",
   "metadata": {},
   "source": [
    "# テンソル"
   ]
  },
  {
   "cell_type": "code",
   "execution_count": 2,
   "id": "acf627c9",
   "metadata": {},
   "outputs": [],
   "source": [
    "%matplotlib inline"
   ]
  },
  {
   "cell_type": "code",
   "execution_count": 3,
   "id": "8f1215cb",
   "metadata": {},
   "outputs": [],
   "source": [
    "import torch\n",
    "import numpy as np"
   ]
  },
  {
   "cell_type": "code",
   "execution_count": null,
   "id": "6b729edf",
   "metadata": {},
   "outputs": [
    {
     "name": "stdout",
     "output_type": "stream",
     "text": [
      "tensor([[1, 2],\n",
      "        [3, 4]])\n",
      "torch.int64\n"
     ]
    }
   ],
   "source": [
    "#データから直接テンソルに変換\n",
    "data = [[1,2],[3,4]]\n",
    "x_data = torch.tensor(data)\n",
    "print(x_data)\n",
    "print(x_data.dtype) #要素の型は引き継がれる\n",
    "                    #typeはそのオブジェクトのクラス（型）、dtypeは要素の型"
   ]
  },
  {
   "cell_type": "code",
   "execution_count": 5,
   "id": "dc1038ca",
   "metadata": {},
   "outputs": [
    {
     "name": "stdout",
     "output_type": "stream",
     "text": [
      "[[1 2]\n",
      " [3 4]]\n",
      "tensor([[1, 2],\n",
      "        [3, 4]])\n"
     ]
    }
   ],
   "source": [
    "#NumPy arrayからテンソルに変換\n",
    "np_array = np.array(data)\n",
    "x_np = torch.from_numpy(np_array)\n",
    "print(np_array)\n",
    "print(x_np)"
   ]
  },
  {
   "cell_type": "code",
   "execution_count": null,
   "id": "b6ef2b21",
   "metadata": {},
   "outputs": [
    {
     "name": "stdout",
     "output_type": "stream",
     "text": [
      "tensor([[1, 1],\n",
      "        [1, 1]])\n",
      "<class 'torch.Tensor'>\n",
      "torch.int64\n",
      "tensor([[0.4407, 0.1108],\n",
      "        [0.4454, 0.9899]])\n"
     ]
    }
   ],
   "source": [
    "#他のテンソルから作成\n",
    "x_ones = torch.ones_like(x_data) #_likeがつく場合、引数のテンソルと同じ shape / dtype / device を自動的に引き継ぐ\n",
    "print(x_ones)\n",
    "print(type(x_ones))\n",
    "print(x_ones.dtype)\n",
    "\n",
    "x_rand = torch.rand_like(x_data, dtype=torch.float) #datatypeを上書き更新\n",
    "print(x_rand)"
   ]
  },
  {
   "cell_type": "code",
   "execution_count": null,
   "id": "92cab158",
   "metadata": {},
   "outputs": [
    {
     "name": "stdout",
     "output_type": "stream",
     "text": [
      "tensor([[0.5795, 0.1200, 0.9293],\n",
      "        [0.6363, 0.4083, 0.4882]])\n",
      "tensor([[1., 1., 1.],\n",
      "        [1., 1., 1.]])\n",
      "tensor([[0., 0., 0.],\n",
      "        [0., 0., 0.]])\n"
     ]
    }
   ],
   "source": [
    "#ランダム値や定数のテンソルの作成\n",
    "shape = (2,3,) #2行(0次元)3列(1次元)\n",
    "rand_tensor = torch.rand(shape) #_likeがつかない場合、形状（shape）を明示的に指定する必要がある\n",
    "ones_tensor = torch.ones(shape) #dtype や device はデフォルト（float32, CPU）\n",
    "zeros_tensor = torch.zeros(shape)\n",
    "\n",
    "print(rand_tensor)\n",
    "print(ones_tensor)\n",
    "print(zeros_tensor)"
   ]
  },
  {
   "cell_type": "code",
   "execution_count": 10,
   "id": "1841f70c",
   "metadata": {},
   "outputs": [
    {
     "name": "stdout",
     "output_type": "stream",
     "text": [
      "torch.Size([3, 4])\n",
      "torch.float32\n",
      "cpu\n"
     ]
    }
   ],
   "source": [
    "#テンソルの属性変数\n",
    "#テンソルは属性変数として、その形状、データの型、保存されているデバイスを保持している\n",
    "tensor_data = torch.rand(3,4)\n",
    "\n",
    "print(tensor_data.shape)\n",
    "print(tensor_data.dtype)\n",
    "print(tensor_data.device)"
   ]
  },
  {
   "cell_type": "code",
   "execution_count": 24,
   "id": "27a7d9e2",
   "metadata": {},
   "outputs": [
    {
     "name": "stdout",
     "output_type": "stream",
     "text": [
      "tensor:\n",
      "tensor([[0.0133, 0.3114, 0.8070, 0.4081],\n",
      "        [0.8725, 0.5603, 0.2896, 0.4620],\n",
      "        [0.5949, 0.5586, 0.6468, 0.7503],\n",
      "        [0.9125, 0.0163, 0.7459, 0.5125]])\n",
      "First row: tensor([0.0133, 0.3114, 0.8070, 0.4081])\n",
      "First column: tensor([0.0133, 0.8725, 0.5949, 0.9125])\n",
      "Last column: tensor([0.4081, 0.4620, 0.7503, 0.5125])\n",
      "tensor([[1., 0., 1., 1.],\n",
      "        [1., 0., 1., 1.],\n",
      "        [1., 0., 1., 1.],\n",
      "        [1., 0., 1., 1.]])\n"
     ]
    }
   ],
   "source": [
    "#テンソルの操作\n",
    "\n",
    "# GPUが使用可能であれば、GPU上にテンソルを移動させる\n",
    "if torch.cuda.is_available():\n",
    "    tensor = tensor_data.to(\"cuda\") #cpuメモリからgpuメモリにデータをコピーしたテンソルを返す\n",
    "                                    #変数名を同じにしてもいいが上書きされる\n",
    "\n",
    "#numpy-likeなindexingとslicing\n",
    "tensor = torch.rand(4,4)\n",
    "print(f\"tensor:\\n{tensor}\") \n",
    "print(\"First row:\",tensor[0]) #[0,:]の:は省略可\n",
    "print(\"First column:\",tensor[:,0]) #rowは行、columnは列\n",
    "print(\"Last column:\",tensor[...,-1])\n",
    "tensor = torch.ones(4,4)\n",
    "tensor[:,1] = 0\n",
    "print(tensor)"
   ]
  },
  {
   "cell_type": "code",
   "execution_count": null,
   "id": "5866152f",
   "metadata": {},
   "outputs": [
    {
     "name": "stdout",
     "output_type": "stream",
     "text": [
      "tensor([[1., 0., 1., 1.],\n",
      "        [1., 0., 1., 1.],\n",
      "        [1., 0., 1., 1.],\n",
      "        [1., 0., 1., 1.],\n",
      "        [1., 0., 1., 1.],\n",
      "        [1., 0., 1., 1.],\n",
      "        [1., 0., 1., 1.],\n",
      "        [1., 0., 1., 1.],\n",
      "        [1., 0., 1., 1.],\n",
      "        [1., 0., 1., 1.],\n",
      "        [1., 0., 1., 1.],\n",
      "        [1., 0., 1., 1.]])\n",
      "tensor([[1., 0., 1., 1., 1., 0., 1., 1., 1., 0., 1., 1.],\n",
      "        [1., 0., 1., 1., 1., 0., 1., 1., 1., 0., 1., 1.],\n",
      "        [1., 0., 1., 1., 1., 0., 1., 1., 1., 0., 1., 1.],\n",
      "        [1., 0., 1., 1., 1., 0., 1., 1., 1., 0., 1., 1.]])\n"
     ]
    }
   ],
   "source": [
    "#テンソルの結合 \n",
    "t1 = torch.cat([tensor, tensor, tensor], dim=0) #行方向\n",
    "t2 = torch.cat([tensor, tensor, tensor], dim=1) #列方向\n",
    "print(t1)\n",
    "print(t2)"
   ]
  },
  {
   "cell_type": "code",
   "execution_count": 33,
   "id": "f551fb73",
   "metadata": {},
   "outputs": [
    {
     "name": "stdout",
     "output_type": "stream",
     "text": [
      "tenosr:\n",
      " tensor([[1., 0., 1., 1.],\n",
      "        [1., 0., 1., 1.],\n",
      "        [1., 0., 1., 1.],\n",
      "        [1., 0., 1., 1.]])\n",
      "tenosrの転置行列:\n",
      " tensor([[1., 1., 1., 1.],\n",
      "        [0., 0., 0., 0.],\n",
      "        [1., 1., 1., 1.],\n",
      "        [1., 1., 1., 1.]])\n",
      "\n",
      " tensor([[3., 3., 3., 3.],\n",
      "        [3., 3., 3., 3.],\n",
      "        [3., 3., 3., 3.],\n",
      "        [3., 3., 3., 3.]]) \n",
      " tensor([[3., 3., 3., 3.],\n",
      "        [3., 3., 3., 3.],\n",
      "        [3., 3., 3., 3.],\n",
      "        [3., 3., 3., 3.]]) \n",
      " tensor([[3., 3., 3., 3.],\n",
      "        [3., 3., 3., 3.],\n",
      "        [3., 3., 3., 3.],\n",
      "        [3., 3., 3., 3.]])\n",
      "\n",
      " tensor([[1., 0., 1., 1.],\n",
      "        [0., 0., 0., 0.],\n",
      "        [1., 0., 1., 1.],\n",
      "        [1., 0., 1., 1.]]) \n",
      " tensor([[1., 0., 1., 1.],\n",
      "        [0., 0., 0., 0.],\n",
      "        [1., 0., 1., 1.],\n",
      "        [1., 0., 1., 1.]]) \n",
      " tensor([[1., 0., 1., 1.],\n",
      "        [0., 0., 0., 0.],\n",
      "        [1., 0., 1., 1.],\n",
      "        [1., 0., 1., 1.]])\n"
     ]
    }
   ],
   "source": [
    "#算術演算\n",
    "\n",
    "#テンソル行列の掛け算\n",
    "y1 = tensor @ tensor.T #@はPythonの行列積演算子\n",
    "y2 = tensor.matmul(tensor.T) #matmulはPyTorchの行列積メソッド\n",
    "                             #mat → matrix（行列）、mul → multiply（掛け算する）\n",
    "y3 = torch.rand_like(tensor)\n",
    "torch.matmul(tensor, tensor.T, out=y3) #out=は「計算結果を格納する既存のテンソルを指定する」\n",
    "                                       #既に確保してあるメモリ領域に結果を書き込むので、節約\n",
    "\n",
    "print(\"tenosr:\\n\",tensor)\n",
    "print(\"tenosrの転置行列:\\n\",tensor.T)\n",
    "print(\"\\n\", y1,\"\\n\", y2,\"\\n\", y3)\n",
    "\n",
    "#要素ごとの積\n",
    "z1 = tensor*tensor.T\n",
    "z2 = tensor.mul(tensor.T)\n",
    "z3 = torch.rand_like(tensor)\n",
    "torch.mul(tensor, tensor.T, out=z3)\n",
    "\n",
    "print(\"\\n\", z1,\"\\n\", z2,\"\\n\", z3)"
   ]
  },
  {
   "cell_type": "code",
   "execution_count": null,
   "id": "2252cf5a",
   "metadata": {},
   "outputs": [
    {
     "name": "stdout",
     "output_type": "stream",
     "text": [
      "<class 'torch.Tensor'>\n",
      "12.0 <class 'float'>\n"
     ]
    }
   ],
   "source": [
    "#1要素のテンソル\n",
    "agg = tensor.sum()\n",
    "agg_item = agg.item() #.item()でPythonの数値型変数に変換\n",
    "print(type(tensor))\n",
    "print(agg_item, type(agg_item))"
   ]
  },
  {
   "cell_type": "code",
   "execution_count": null,
   "id": "0e5e0117",
   "metadata": {},
   "outputs": [
    {
     "name": "stdout",
     "output_type": "stream",
     "text": [
      "tensor([[6., 5., 6., 6.],\n",
      "        [6., 5., 6., 6.],\n",
      "        [6., 5., 6., 6.],\n",
      "        [6., 5., 6., 6.]]) \n",
      "\n",
      "tensor([[11., 10., 11., 11.],\n",
      "        [11., 10., 11., 11.],\n",
      "        [11., 10., 11., 11.],\n",
      "        [11., 10., 11., 11.]]) \n",
      "\n",
      "tensor([[16., 15., 16., 16.],\n",
      "        [16., 15., 16., 16.],\n",
      "        [16., 15., 16., 16.],\n",
      "        [16., 15., 16., 16.]])\n"
     ]
    }
   ],
   "source": [
    "#インプレース(演算結果をオペランドに格納する演算)操作\n",
    "#オペランドとは、演算の対象となる値や変数（演算子はoperator）\n",
    "print(tensor, \"\\n\")\n",
    "tensor.add_(5) #_がつき、xの内容そのものを更新（x.copy_(y)等）\n",
    "print(tensor, \"\\n\")\n",
    "\n",
    "tensor2 = tensor.add(5) #新しいテンソルを返すので変数を用意\n",
    "print(tensor2)"
   ]
  },
  {
   "cell_type": "code",
   "execution_count": null,
   "id": "86d26a10",
   "metadata": {},
   "outputs": [
    {
     "name": "stdout",
     "output_type": "stream",
     "text": [
      "t: tensor([1., 1., 1., 1., 1.])\n",
      "n: [1. 1. 1. 1. 1.]\n",
      "t: tensor([6., 6., 6., 6., 6.])\n",
      "n: [6. 6. 6. 6. 6.]\n",
      "t: tensor([2., 2., 2., 2., 2.], dtype=torch.float64)\n",
      "n: [2. 2. 2. 2. 2.]\n"
     ]
    }
   ],
   "source": [
    "#NumPyとの変換\n",
    "#CPU上のテンソルとNumpy arraysは同じメモリを共有することができ、相互変換が容易\n",
    "\n",
    "#Tensor to NumPy array\n",
    "t = torch.ones(5)\n",
    "n = t.numpy() #PyTorchのTensorクラスが持っているメソッド\n",
    "print(f\"t: {t,}\")\n",
    "print(f\"n: {n}\")\n",
    "\n",
    "t.add_(5) #テンソルが変化するとNumpy側も変化する\n",
    "print(f\"t: {t}\")\n",
    "print(f\"n: {n}\")\n",
    "\n",
    "#NumPy array to Tensor\n",
    "n = np.ones(5)\n",
    "t = torch.from_numpy(n)\n",
    "\n",
    "np.add(n, 1, out=n) #numpyではnp.add_(5)はできない\n",
    "print(f\"t: {t}\") #numpyのデフォルトはfloat64だからそれが引き継がれる\n",
    "print(f\"n: {n}\")"
   ]
  }
 ],
 "metadata": {
  "kernelspec": {
   "display_name": "Python (pytorch-gpu-env)",
   "language": "python",
   "name": "pytorch-gpu-env"
  },
  "language_info": {
   "codemirror_mode": {
    "name": "ipython",
    "version": 3
   },
   "file_extension": ".py",
   "mimetype": "text/x-python",
   "name": "python",
   "nbconvert_exporter": "python",
   "pygments_lexer": "ipython3",
   "version": "3.11.13"
  }
 },
 "nbformat": 4,
 "nbformat_minor": 5
}
