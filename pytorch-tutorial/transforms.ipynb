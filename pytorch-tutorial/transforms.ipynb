{
 "cells": [
  {
   "cell_type": "markdown",
   "id": "88248b76",
   "metadata": {},
   "source": [
    "# Transforms"
   ]
  },
  {
   "cell_type": "code",
   "execution_count": 1,
   "id": "ae7f655f",
   "metadata": {},
   "outputs": [],
   "source": [
    "%matplotlib inline"
   ]
  },
  {
   "cell_type": "code",
   "execution_count": 2,
   "id": "b41bf2d3",
   "metadata": {},
   "outputs": [],
   "source": [
    "import torch\n",
    "from torchvision import datasets\n",
    "from torchvision.transforms import ToTensor, Lambda\n",
    "\n",
    "ds = datasets.FashionMNIST(\n",
    "    root=\"data\",\n",
    "    train=True,\n",
    "    download=True,\n",
    "    transform=ToTensor(),\n",
    "    target_transform=Lambda(lambda y: torch.zeros(10, dtype=torch.float).scatter_(0, torch.tensor(y), value=1))\n",
    ") #ラベルはワンホットエンコーディング形式に変換"
   ]
  },
  {
   "cell_type": "markdown",
   "id": "4b7e6a6a",
   "metadata": {},
   "source": [
    "**Lambda**  \n",
    "- PyTorchの変換処理（Transform）の1つ  \n",
    "- `Lambda(関数)` のように、任意の関数を変換処理としてラップできる  \n",
    "- これにより、`transform` や `target_transform` に好きな処理を簡単に組み込める  \n",
    "\n",
    "---\n",
    "\n",
    "**scatter**  \n",
    "- 構文: `Tensor.scatter_(dim, index, src/value)`  \n",
    "- 指定位置（`index` 番目）に `src/value` を代入する  \n",
    "- 引数:\n",
    "  - **dim** → どの次元に沿って値を入れるか（`int`）\n",
    "  - **index** → 書き込み位置のインデックスを格納した **LongTensor**\n",
    "  - **src/value** → 書き込む値（テンソル or 単一の値）  \n",
    "- なぜ `index` はテンソルでなければならないのか:\n",
    "  - `scatter_()` は複数インデックス（例: `[2, 4, 5]`）にも対応しているため、常に `index` をテンソルとして受け取る設計になっている\n"
   ]
  }
 ],
 "metadata": {
  "kernelspec": {
   "display_name": "Python (pytorch-gpu-env)",
   "language": "python",
   "name": "pytorch-gpu-env"
  },
  "language_info": {
   "codemirror_mode": {
    "name": "ipython",
    "version": 3
   },
   "file_extension": ".py",
   "mimetype": "text/x-python",
   "name": "python",
   "nbconvert_exporter": "python",
   "pygments_lexer": "ipython3",
   "version": "3.11.13"
  }
 },
 "nbformat": 4,
 "nbformat_minor": 5
}
